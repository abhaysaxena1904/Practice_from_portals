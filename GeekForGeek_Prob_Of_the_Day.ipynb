{
  "cells": [
    {
      "cell_type": "markdown",
      "metadata": {
        "id": "view-in-github",
        "colab_type": "text"
      },
      "source": [
        "<a href=\"https://colab.research.google.com/github/abhaysaxena1904/Practice_from_portals/blob/main/GeekForGeek_Prob_Of_the_Day.ipynb\" target=\"_parent\"><img src=\"https://colab.research.google.com/assets/colab-badge.svg\" alt=\"Open In Colab\"/></a>"
      ]
    },
    {
      "cell_type": "code",
      "execution_count": null,
      "metadata": {
        "id": "Nd0E5Ml12Qnx"
      },
      "outputs": [],
      "source": [
        "#   https://practice.geeksforgeeks.org/problem-of-the-day"
      ]
    },
    {
      "cell_type": "code",
      "execution_count": null,
      "metadata": {
        "id": "TvX6dJS72QoB"
      },
      "outputs": [],
      "source": [
        "#"
      ]
    },
    {
      "cell_type": "code",
      "execution_count": null,
      "metadata": {
        "id": "PpGT3H9w2QoD"
      },
      "outputs": [],
      "source": [
        "# 23-Aug\n",
        "# "
      ]
    },
    {
      "cell_type": "code",
      "execution_count": null,
      "metadata": {
        "id": "fJJO7d-f2QoF",
        "outputId": "91077893-e31a-42be-c2a9-c80cd436f6c3"
      },
      "outputs": [
        {
          "name": "stdout",
          "output_type": "stream",
          "text": [
            "None\n"
          ]
        }
      ],
      "source": [
        "# 24-Aug\n",
        "#\n",
        "# Given an array of n distinct elements. Check whether the given array is a k sorted array or not. A k sorted array is an array where each element is at most k distance away from its target position in the sorted array.\n",
        "\n",
        "def binarySearch(arr,low,high,x):\n",
        "    low=0\n",
        "    high = len(arr)-1\n",
        "    while (low <= high):\n",
        "        mid = int((low + high) // 2)\n",
        "        if (a[mid] == x):\n",
        "            return mid\n",
        "        elif(a[mid] > x):\n",
        "            high = mid - 1\n",
        "        else:\n",
        "            low = mid + 1\n",
        "    \n",
        "    \n",
        "def isKSortedArray(arr, n, k): \n",
        "    aux = [0 for i in range(n)]\n",
        "    for i in range(0, n, 1):\n",
        "        aux[i] = arr[i]\n",
        "    aux.sort(reverse = False)\n",
        "    for i in range(0, n, 1):\n",
        "        j = binarySearch(aux, 0, n - 1, arr[i])\n",
        "        if (abs(i - j) > k):\n",
        "            return \"No\"\n",
        "\n",
        "    return \"Yes\"\n",
        " \n",
        "n=6\n",
        "a=[13, 8, 10, 7, 15, 14, 12]\n",
        "k=2\n",
        "#a.sort()\n",
        "x=binarySearch(a,0,5,5)\n",
        "#o= isKSortedArray(a,n,k)\n",
        "print(x)"
      ]
    },
    {
      "cell_type": "code",
      "execution_count": null,
      "metadata": {
        "id": "1uUviKTO2QoK"
      },
      "outputs": [],
      "source": [
        "# 25-Aug\n",
        "# Search Pattern KMP-Algorithm\n",
        "# Given two strings, one is a text string, txt and other is a pattern string, pat. The task is to print the indexes of all the occurences of pattern string in the text string. For printing, Starting Index of a string should be taken as 1.\n",
        "\n",
        "\n",
        "s=\"batmanandrobinarebat\"\n",
        "p=\"bat\"\n",
        "\n"
      ]
    },
    {
      "cell_type": "code",
      "execution_count": null,
      "metadata": {
        "id": "fDrxeSNb2QoM",
        "outputId": "71a01e1c-ad06-40a4-96f0-aeba34159035"
      },
      "outputs": [
        {
          "data": {
            "text/plain": [
              "7"
            ]
          },
          "execution_count": 56,
          "metadata": {},
          "output_type": "execute_result"
        }
      ],
      "source": [
        "# 31-Aug\n",
        "\n",
        "#Given an array arr[] denoting heights of N towers and a positive integer K, you have to modify the height of each tower either by increasing or decreasing them by K only once.\n",
        "#Find out what could be the possible minimum difference of the height of shortest and longest towers after you have modified each tower.\n",
        "\n",
        "#import numpy as np\n",
        "k = 5\n",
        "n = 10\n",
        "arr = [2, 6, 3, 4, 7, 2, 10, 3,2, 1]\n",
        "#arr= np.array(arr)\n",
        "def getMinDiff(arr, n, k):\n",
        "    a=[]\n",
        "    for x in arr:\n",
        "        if x >= sum(arr)/n:\n",
        "            a.append(x-k)\n",
        "        else:\n",
        "            a.append(x+k)\n",
        "    a=[abs(x) for x in a]\n",
        "    return max(a)-min(a)\n",
        "\n",
        "getMinDiff(arr,n,k)\n"
      ]
    },
    {
      "cell_type": "code",
      "execution_count": null,
      "metadata": {
        "id": "D89IWetq2QoO",
        "outputId": "8a1b6405-e202-4277-f2d1-76124f94e8f4"
      },
      "outputs": [
        {
          "data": {
            "text/plain": [
              "7"
            ]
          },
          "execution_count": 83,
          "metadata": {},
          "output_type": "execute_result"
        }
      ],
      "source": [
        "# 31-Aug\n",
        "\n",
        "#Given an array arr[] denoting heights of N towers and a positive integer K, you have to modify the height of each tower either by increasing or decreasing them by K only once.\n",
        "#Find out what could be the possible minimum difference of the height of shortest and longest towers after you have modified each tower.\n",
        "\n",
        "k = 5\n",
        "n = 10\n",
        "arr = [5, 5, 8, 6, 4, 10, 3, 8, 9, 10]\n",
        "#5 5 8 6 4 10 3 8 9 10\n",
        "\n",
        "a=[]\n",
        "def getMinDiff(arr, n, k):\n",
        "        arr.sort()  #sorting the array\n",
        "        ans=arr[n-1]-arr[0] #it's same as substracting an+k-(ao+k) or an-k-(a0-k)\n",
        "        small,big=0,0\n",
        "         \n",
        "        for i in range(1,n):#trying to make each tower highest\n",
        "            small=min(arr[0]+k,arr[i]-k) #finding minimum tower height\n",
        "            big=max(arr[i-1]+k,arr[-1]-k) #finding maximum tower height\n",
        "            ans=min(ans,big-small) #checking whether we get smaller value as result\n",
        "        return ans\n",
        "    \n",
        "    \n",
        "getMinDiff(arr,n=10,k=5)"
      ]
    },
    {
      "cell_type": "code",
      "execution_count": null,
      "metadata": {
        "id": "GweMH6s82QoR",
        "outputId": "8c16f312-9d6d-4820-a721-a7303ee9868c"
      },
      "outputs": [
        {
          "data": {
            "text/plain": [
              "2"
            ]
          },
          "execution_count": 58,
          "metadata": {},
          "output_type": "execute_result"
        }
      ],
      "source": [
        "# 2-Sept\n",
        "\n",
        "def getCount(N):\n",
        "    c=0\n",
        "    l=[i for i in range(1,N//2+1)]\n",
        "    for j in range(len(l)):\n",
        "        for i in range(len(l)):\n",
        "            if i<=j:\n",
        "                if sum(l[i:j])==N:\n",
        "                    c=c+1\n",
        "                    \n",
        "                \n",
        "    return c\n",
        "getCount(15)"
      ]
    },
    {
      "cell_type": "code",
      "execution_count": null,
      "metadata": {
        "id": "2XydVlFi2QoS",
        "outputId": "fb7e3ace-bf2b-4c1f-99b6-06cdd97e3eb6"
      },
      "outputs": [
        {
          "data": {
            "text/plain": [
              "1"
            ]
          },
          "execution_count": 98,
          "metadata": {},
          "output_type": "execute_result"
        }
      ],
      "source": [
        "N=20\n",
        "l =[x for x in range(1,N)]\n",
        "s=[]\n",
        "for i in range(len(l)):\n",
        "    for j in range(i,len(l)):\n",
        "        s.append(sum(l[i:j]))\n",
        "s.count(N)\n",
        "\n"
      ]
    },
    {
      "cell_type": "code",
      "execution_count": null,
      "metadata": {
        "id": "zKL7pLSH2QoT",
        "outputId": "558a5d84-636e-4a4e-f396-299f130b6b7c"
      },
      "outputs": [
        {
          "data": {
            "text/plain": [
              "[1, 2, 3, 4, 5, 6, 7]"
            ]
          },
          "execution_count": 90,
          "metadata": {},
          "output_type": "execute_result"
        }
      ],
      "source": [
        "l\n"
      ]
    },
    {
      "cell_type": "code",
      "execution_count": null,
      "metadata": {
        "id": "2ZJF9uyp2QoU"
      },
      "outputs": [],
      "source": []
    },
    {
      "cell_type": "code",
      "execution_count": null,
      "metadata": {
        "id": "SseSs7932QoV"
      },
      "outputs": [],
      "source": []
    }
  ],
  "metadata": {
    "kernelspec": {
      "display_name": "Python 3",
      "language": "python",
      "name": "python3"
    },
    "language_info": {
      "codemirror_mode": {
        "name": "ipython",
        "version": 3
      },
      "file_extension": ".py",
      "mimetype": "text/x-python",
      "name": "python",
      "nbconvert_exporter": "python",
      "pygments_lexer": "ipython3",
      "version": "3.8.3"
    },
    "colab": {
      "provenance": [],
      "include_colab_link": true
    }
  },
  "nbformat": 4,
  "nbformat_minor": 0
}